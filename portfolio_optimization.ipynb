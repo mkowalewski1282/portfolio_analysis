{
 "cells": [
  {
   "cell_type": "code",
   "execution_count": 1,
   "metadata": {},
   "outputs": [],
   "source": [
    "from portfolio_optimization_class import PortfolioOptimization"
   ]
  },
  {
   "cell_type": "code",
   "execution_count": 2,
   "metadata": {},
   "outputs": [
    {
     "name": "stdout",
     "output_type": "stream",
     "text": [
      "Objective value (EVaR): 0.03811748174743554\n",
      "Weights (w): [0, 0, 0.005787493147726577, 0.0018294885799815253, 0.05803880415441206, 0, 0, 0, 0.2303872239476441, 0, 0.030288596726929497, 0.12185994623285196, 0.08045787224076632, 0, 0, 0, 0, 0, 0.06286606623205662, 0.3, 0, 0.10848450873763138]\n"
     ]
    },
    {
     "data": {
      "text/plain": [
       "docplex.mp.solution.SolveSolution(obj=0.0381175,values={w_2:0.00578749,w.."
      ]
     },
     "execution_count": 2,
     "metadata": {},
     "output_type": "execute_result"
    }
   ],
   "source": [
    "optimizer = PortfolioOptimization()\n",
    "optimizer.set_tau(0.05)\n",
    "optimizer.set_maximum_weight(0.3)\n",
    "optimizer.load_data_from_csv(r'data\\random_data\\n_stocks_per_sector.csv')\n",
    "optimizer.build_model()\n",
    "optimizer.solve()\n",
    "\n",
    "solution = optimizer.get_solution()\n",
    "solution"
   ]
  },
  {
   "cell_type": "code",
   "execution_count": 3,
   "metadata": {},
   "outputs": [
    {
     "name": "stdout",
     "output_type": "stream",
     "text": [
      "12.8.0.0\n"
     ]
    }
   ],
   "source": [
    "import cplex\n",
    "print(cplex.__version__)"
   ]
  }
 ],
 "metadata": {
  "kernelspec": {
   "display_name": "cplex_env",
   "language": "python",
   "name": "python3"
  },
  "language_info": {
   "codemirror_mode": {
    "name": "ipython",
    "version": 3
   },
   "file_extension": ".py",
   "mimetype": "text/x-python",
   "name": "python",
   "nbconvert_exporter": "python",
   "pygments_lexer": "ipython3",
   "version": "3.6.13"
  }
 },
 "nbformat": 4,
 "nbformat_minor": 2
}

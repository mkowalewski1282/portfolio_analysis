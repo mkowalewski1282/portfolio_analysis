{
 "cells": [
  {
   "cell_type": "code",
   "execution_count": 1,
   "metadata": {},
   "outputs": [],
   "source": [
    "from distribution_fit_class import DistributionFit\n",
    "import pandas as pd"
   ]
  },
  {
   "cell_type": "code",
   "execution_count": 7,
   "metadata": {},
   "outputs": [],
   "source": [
    "distribution_fit = DistributionFit()\n",
    "file_path = r'data\\random_data\\n_stocks_per_sector.csv'\n",
    "distribution_fit.load_df_from_csv(file_path)\n",
    "\n",
    "returns_df = pd.read_csv(r'data\\random_data\\n_stocks_per_sector.csv', index_col=0, parse_dates=True)\n",
    "\n",
    "copulas = [\"clayton_random\", \"gaussian\", \"t_student\"]\n",
    "distributions = [\"gauss_dist\", \"t_dist\"]\n",
    "window_size = 32"
   ]
  },
  {
   "cell_type": "code",
   "execution_count": null,
   "metadata": {},
   "outputs": [
    {
     "name": "stdout",
     "output_type": "stream",
     "text": [
      "Iter: clayton_random - 0\n",
      "Iter: clayton_random - 5\n",
      "Iter: clayton_random - 10\n",
      "Iter: clayton_random - 15\n",
      "Iter: clayton_random - 20\n",
      "Iter: clayton_random - 25\n",
      "Iter: clayton_random - 30\n",
      "Iter: clayton_random - 35\n",
      "Iter: clayton_random - 40\n",
      "Iter: clayton_random - 45\n",
      "Iter: clayton_random - 50\n",
      "Iter: clayton_random - 55\n",
      "Iter: clayton_random - 60\n"
     ]
    },
    {
     "name": "stderr",
     "output_type": "stream",
     "text": [
      "c:\\Users\\Miłosz\\.conda\\envs\\cplex_env\\lib\\site-packages\\scipy\\stats\\_distn_infrastructure.py:1844: RuntimeWarning: invalid value encountered in double_scalars\n",
      "  x = np.asarray((x - loc)/scale, dtype=dtyp)\n",
      "c:\\Users\\Miłosz\\.conda\\envs\\cplex_env\\lib\\site-packages\\scipy\\stats\\_distn_infrastructure.py:2023: RuntimeWarning: invalid value encountered in multiply\n",
      "  lower_bound = _a * scale + loc\n",
      "c:\\Users\\Miłosz\\.conda\\envs\\cplex_env\\lib\\site-packages\\scipy\\stats\\_distn_infrastructure.py:2024: RuntimeWarning: invalid value encountered in multiply\n",
      "  upper_bound = _b * scale + loc\n"
     ]
    },
    {
     "name": "stdout",
     "output_type": "stream",
     "text": [
      "Iter: gaussian - 0\n",
      "Iter: gaussian - 5\n",
      "Iter: gaussian - 10\n",
      "Iter: gaussian - 15\n",
      "Iter: gaussian - 20\n",
      "Iter: gaussian - 25\n",
      "Iter: gaussian - 30\n",
      "Iter: gaussian - 35\n",
      "Iter: gaussian - 40\n",
      "Iter: gaussian - 45\n",
      "Iter: gaussian - 50\n",
      "Iter: gaussian - 55\n",
      "Iter: gaussian - 60\n",
      "Iter: t_student - 0\n",
      "Iter: t_student - 5\n",
      "Iter: t_student - 10\n",
      "Iter: t_student - 15\n",
      "Iter: t_student - 20\n",
      "Iter: t_student - 25\n",
      "Iter: t_student - 30\n",
      "Iter: t_student - 35\n",
      "Iter: t_student - 40\n",
      "Iter: t_student - 45\n",
      "Iter: t_student - 50\n",
      "Iter: t_student - 55\n",
      "Iter: t_student - 60\n"
     ]
    }
   ],
   "source": [
    "for copula in copulas:\n",
    "    for window in range(0, 64):\n",
    "        if window % 5 == 0:\n",
    "            print(f'Iter: {copula} - {window}')\n",
    "        returns_window = returns_df.iloc[window : window+window_size]\n",
    "        distribution_fit = DistributionFit()\n",
    "        distribution_fit.set_df(returns_window)\n",
    "        distribution_fit.fit_distribution_all_stocks()\n",
    "        # distribution_fit.get_fitted_params()\n",
    "        simulated_data_path = r'../copulas_outputs/simulated_' + copula + '_22_stocks' + f'_{window}_window.csv'\n",
    "        distribution_fit.load_simulated_data_from_csv(simulated_data_path)\n",
    "        distribution_fit.calculate_returns_from_simulated_quantiles()\n",
    "        returns_norm = distribution_fit.get_simulated_return_norm()\n",
    "        returns_t = distribution_fit.get_simulated_return_t_student()\n",
    "        output_file_path = r'../data_return_rates/simulated_' + copula + '_RETURNS_22_stocks' + f'_{window}_window_'\n",
    "        returns_norm.to_csv(output_file_path + \"gauss_dist.csv\")\n",
    "        returns_t.to_csv(output_file_path + \"t_dist.csv\")\n"
   ]
  }
 ],
 "metadata": {
  "kernelspec": {
   "display_name": "cplex_env",
   "language": "python",
   "name": "python3"
  },
  "language_info": {
   "codemirror_mode": {
    "name": "ipython",
    "version": 3
   },
   "file_extension": ".py",
   "mimetype": "text/x-python",
   "name": "python",
   "nbconvert_exporter": "python",
   "pygments_lexer": "ipython3",
   "version": "3.6.13"
  }
 },
 "nbformat": 4,
 "nbformat_minor": 2
}

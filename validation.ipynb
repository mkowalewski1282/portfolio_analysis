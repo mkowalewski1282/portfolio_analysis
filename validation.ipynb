{
 "cells": [
  {
   "cell_type": "code",
   "execution_count": 20,
   "metadata": {},
   "outputs": [],
   "source": [
    "from portfolio_optimization_class import PortfolioOptimization, optimize_windows\n",
    "import pandas as pd\n",
    "import numpy as np\n",
    "from matplotlib import pyplot as plt"
   ]
  },
  {
   "cell_type": "code",
   "execution_count": 2,
   "metadata": {},
   "outputs": [],
   "source": [
    "number_of_quarters = 32\n",
    "tau = 0.05\n",
    "maximum_weight = 0.3\n",
    "data_path = r'data\\random_data\\n_stocks_per_sector.csv'\n",
    "portfolios = optimize_windows(number_of_quarters, tau, maximum_weight, data_path)"
   ]
  },
  {
   "cell_type": "code",
   "execution_count": 4,
   "metadata": {},
   "outputs": [],
   "source": [
    "copulas = [\"clayton_random\", \"gaussian\", \"t_student\"]\n",
    "distributions = [\"gauss_dist\", \"t_dist\"]"
   ]
  },
  {
   "cell_type": "code",
   "execution_count": null,
   "metadata": {},
   "outputs": [],
   "source": [
    "for copula in copulas:\n",
    "    for window in range(0, 64):\n",
    "        for dist in distributions:\n",
    "            simulated_returns_file_path = r'../data_return_rates/simulated_' + copula + '_RETURNS_22_stocks' + f'_{window}_window_{dist}.csv'\n",
    "            returns = pd.read_csv(simulated_returns_file_path)\n"
   ]
  },
  {
   "cell_type": "code",
   "execution_count": 11,
   "metadata": {},
   "outputs": [],
   "source": [
    "# portfolios"
   ]
  },
  {
   "cell_type": "code",
   "execution_count": 12,
   "metadata": {},
   "outputs": [],
   "source": [
    "returns_df = pd.read_csv(r'../data_return_rates/simulated_clayton_random_RETURNS_22_stocks_0_window_gauss_dist.csv', index_col=0)\n",
    "# returns_df"
   ]
  },
  {
   "cell_type": "code",
   "execution_count": null,
   "metadata": {},
   "outputs": [],
   "source": [
    "weights = portfolios.iloc[0].filter(regex=\"^w\\d+$\").values\n",
    "expectile = -portfolios.iloc[0][\"EVAR\"]\n",
    "\n",
    "\n",
    "weighted_returns = returns_df.values * weights\n",
    "\n",
    "\n",
    "validation_values = (1 - tau) * np.minimum(weighted_returns - expectile, 0) - tau * np.maximum(weighted_returns - expectile, 0)\n",
    "scoring_values = (1 - tau) * np.minimum((weighted_returns - expectile)**2, 0) - tau * np.maximum((weighted_returns - expectile)**2, 0)\n",
    "\n",
    "\n",
    "expected_validation_values = np.mean(validation_values, axis=1)\n",
    "expected_scoring_values = np.mean(scoring_values, axis=1)\n",
    "\n",
    "\n",
    "validation_df = pd.DataFrame({\n",
    "    'Portfolio Return': np.sum(weighted_returns, axis=1),\n",
    "    'Expected Validation Value': expected_validation_values,\n",
    "    'Expected Scoring Value': expected_scoring_values\n",
    "})\n"
   ]
  },
  {
   "cell_type": "code",
   "execution_count": 40,
   "metadata": {},
   "outputs": [
    {
     "data": {
      "text/plain": [
       "0.021702123687977807"
      ]
     },
     "execution_count": 40,
     "metadata": {},
     "output_type": "execute_result"
    }
   ],
   "source": [
    "expectile"
   ]
  },
  {
   "cell_type": "code",
   "execution_count": 41,
   "metadata": {},
   "outputs": [
    {
     "data": {
      "text/plain": [
       "array([[-0.026591518396296126, -0.021702123687977807,\n",
       "        -0.01778623743457599, ..., 0, -0.021702123687977807,\n",
       "        -0.021702123687977807],\n",
       "       [-0.04216324990942255, -0.021702123687977807,\n",
       "        -0.022273725774527527, ..., 0, -0.021702123687977807,\n",
       "        -0.021702123687977807],\n",
       "       [-0.011787908382052868, -0.021702123687977807,\n",
       "        -0.015571420580864088, ..., -0.00202416277277713,\n",
       "        -0.021702123687977807, -0.021702123687977807],\n",
       "       ...,\n",
       "       [-0.022184198833261327, -0.021702123687977807,\n",
       "        -0.0042201685676119295, ..., 0, -0.021702123687977807,\n",
       "        -0.021702123687977807],\n",
       "       [-0.016431081955448377, -0.021702123687977807,\n",
       "        -0.031394234669563634, ..., -0.06369631306153055,\n",
       "        -0.021702123687977807, -0.021702123687977807],\n",
       "       [-0.028802832364026438, -0.021702123687977807,\n",
       "        -0.012562768998284322, ..., -0.023069173680573155,\n",
       "        -0.021702123687977807, -0.021702123687977807]], dtype=object)"
      ]
     },
     "execution_count": 41,
     "metadata": {},
     "output_type": "execute_result"
    }
   ],
   "source": [
    "np.minimum(weighted_returns - expectile, 0)"
   ]
  },
  {
   "cell_type": "code",
   "execution_count": 33,
   "metadata": {},
   "outputs": [
    {
     "data": {
      "text/html": [
       "<div>\n",
       "<style scoped>\n",
       "    .dataframe tbody tr th:only-of-type {\n",
       "        vertical-align: middle;\n",
       "    }\n",
       "\n",
       "    .dataframe tbody tr th {\n",
       "        vertical-align: top;\n",
       "    }\n",
       "\n",
       "    .dataframe thead th {\n",
       "        text-align: right;\n",
       "    }\n",
       "</style>\n",
       "<table border=\"1\" class=\"dataframe\">\n",
       "  <thead>\n",
       "    <tr style=\"text-align: right;\">\n",
       "      <th></th>\n",
       "      <th>Portfolio Return</th>\n",
       "      <th>Expected Validation Value</th>\n",
       "      <th>Expected Scoring Value</th>\n",
       "    </tr>\n",
       "  </thead>\n",
       "  <tbody>\n",
       "    <tr>\n",
       "      <th>0</th>\n",
       "      <td>0.10086</td>\n",
       "      <td>-0.0176772</td>\n",
       "      <td>-2.20157e-05</td>\n",
       "    </tr>\n",
       "    <tr>\n",
       "      <th>1</th>\n",
       "      <td>0.114682</td>\n",
       "      <td>-0.0192511</td>\n",
       "      <td>-3.84328e-05</td>\n",
       "    </tr>\n",
       "    <tr>\n",
       "      <th>2</th>\n",
       "      <td>0.0806146</td>\n",
       "      <td>-0.0173248</td>\n",
       "      <td>-1.86963e-05</td>\n",
       "    </tr>\n",
       "    <tr>\n",
       "      <th>3</th>\n",
       "      <td>0.114554</td>\n",
       "      <td>-0.0199823</td>\n",
       "      <td>-4.43027e-05</td>\n",
       "    </tr>\n",
       "    <tr>\n",
       "      <th>4</th>\n",
       "      <td>-0.082605</td>\n",
       "      <td>-0.0241841</td>\n",
       "      <td>-3.60575e-05</td>\n",
       "    </tr>\n",
       "    <tr>\n",
       "      <th>...</th>\n",
       "      <td>...</td>\n",
       "      <td>...</td>\n",
       "      <td>...</td>\n",
       "    </tr>\n",
       "    <tr>\n",
       "      <th>99995</th>\n",
       "      <td>0.0926844</td>\n",
       "      <td>-0.0186417</td>\n",
       "      <td>-2.4631e-05</td>\n",
       "    </tr>\n",
       "    <tr>\n",
       "      <th>99996</th>\n",
       "      <td>-0.0424479</td>\n",
       "      <td>-0.0224504</td>\n",
       "      <td>-3.17224e-05</td>\n",
       "    </tr>\n",
       "    <tr>\n",
       "      <th>99997</th>\n",
       "      <td>0.201915</td>\n",
       "      <td>-0.016306</td>\n",
       "      <td>-2.60242e-05</td>\n",
       "    </tr>\n",
       "    <tr>\n",
       "      <th>99998</th>\n",
       "      <td>-0.0724143</td>\n",
       "      <td>-0.0244707</td>\n",
       "      <td>-4.18344e-05</td>\n",
       "    </tr>\n",
       "    <tr>\n",
       "      <th>99999</th>\n",
       "      <td>0.0798464</td>\n",
       "      <td>-0.0186362</td>\n",
       "      <td>-2.25164e-05</td>\n",
       "    </tr>\n",
       "  </tbody>\n",
       "</table>\n",
       "<p>100000 rows × 3 columns</p>\n",
       "</div>"
      ],
      "text/plain": [
       "      Portfolio Return Expected Validation Value Expected Scoring Value\n",
       "0              0.10086                -0.0176772           -2.20157e-05\n",
       "1             0.114682                -0.0192511           -3.84328e-05\n",
       "2            0.0806146                -0.0173248           -1.86963e-05\n",
       "3             0.114554                -0.0199823           -4.43027e-05\n",
       "4            -0.082605                -0.0241841           -3.60575e-05\n",
       "...                ...                       ...                    ...\n",
       "99995        0.0926844                -0.0186417            -2.4631e-05\n",
       "99996       -0.0424479                -0.0224504           -3.17224e-05\n",
       "99997         0.201915                 -0.016306           -2.60242e-05\n",
       "99998       -0.0724143                -0.0244707           -4.18344e-05\n",
       "99999        0.0798464                -0.0186362           -2.25164e-05\n",
       "\n",
       "[100000 rows x 3 columns]"
      ]
     },
     "execution_count": 33,
     "metadata": {},
     "output_type": "execute_result"
    }
   ],
   "source": [
    "validation_df"
   ]
  },
  {
   "cell_type": "code",
   "execution_count": 37,
   "metadata": {},
   "outputs": [
    {
     "data": {
      "text/plain": [
       "22"
      ]
     },
     "execution_count": 37,
     "metadata": {},
     "output_type": "execute_result"
    }
   ],
   "source": [
    "len(returns_df.values[0])"
   ]
  },
  {
   "cell_type": "code",
   "execution_count": 39,
   "metadata": {},
   "outputs": [
    {
     "data": {
      "text/plain": [
       "100000"
      ]
     },
     "execution_count": 39,
     "metadata": {},
     "output_type": "execute_result"
    }
   ],
   "source": [
    "len(weighted_returns)"
   ]
  }
 ],
 "metadata": {
  "kernelspec": {
   "display_name": "cplex_env",
   "language": "python",
   "name": "python3"
  },
  "language_info": {
   "codemirror_mode": {
    "name": "ipython",
    "version": 3
   },
   "file_extension": ".py",
   "mimetype": "text/x-python",
   "name": "python",
   "nbconvert_exporter": "python",
   "pygments_lexer": "ipython3",
   "version": "3.6.13"
  }
 },
 "nbformat": 4,
 "nbformat_minor": 2
}

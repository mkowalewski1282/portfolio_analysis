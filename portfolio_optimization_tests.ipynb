{
 "cells": [
  {
   "cell_type": "code",
   "execution_count": 1,
   "metadata": {},
   "outputs": [
    {
     "name": "stdout",
     "output_type": "stream",
     "text": [
      "12.8.0.0\n"
     ]
    }
   ],
   "source": [
    "from portfolio_optimization_class import PortfolioOptimization\n",
    "import cplex\n",
    "print(cplex.__version__)"
   ]
  },
  {
   "cell_type": "code",
   "execution_count": 2,
   "metadata": {},
   "outputs": [
    {
     "name": "stdout",
     "output_type": "stream",
     "text": [
      "Objective value (EVaR): 0.03811748174743554\n",
      "Weights (w): [0, 0, 0.005787493147726577, 0.0018294885799815253, 0.05803880415441206, 0, 0, 0, 0.2303872239476441, 0, 0.030288596726929497, 0.12185994623285196, 0.08045787224076632, 0, 0, 0, 0, 0, 0.06286606623205662, 0.3, 0, 0.10848450873763138]\n"
     ]
    }
   ],
   "source": [
    "optimizer = PortfolioOptimization()\n",
    "optimizer.set_tau(0.05)\n",
    "optimizer.set_maximum_weight(0.3)\n",
    "optimizer.load_data_from_csv(r'data\\random_data\\n_stocks_per_sector.csv')\n",
    "optimizer.build_model()\n",
    "optimizer.solve()\n",
    "\n",
    "weights = optimizer.get_solution_weights()\n",
    "evar = optimizer.get_solution_evar()"
   ]
  },
  {
   "cell_type": "code",
   "execution_count": 3,
   "metadata": {},
   "outputs": [
    {
     "data": {
      "text/plain": [
       "[0,\n",
       " 0,\n",
       " 0.005787493147726577,\n",
       " 0.0018294885799815253,\n",
       " 0.05803880415441206,\n",
       " 0,\n",
       " 0,\n",
       " 0,\n",
       " 0.2303872239476441,\n",
       " 0,\n",
       " 0.030288596726929497,\n",
       " 0.12185994623285196,\n",
       " 0.08045787224076632,\n",
       " 0,\n",
       " 0,\n",
       " 0,\n",
       " 0,\n",
       " 0,\n",
       " 0.06286606623205662,\n",
       " 0.3,\n",
       " 0,\n",
       " 0.10848450873763138]"
      ]
     },
     "execution_count": 3,
     "metadata": {},
     "output_type": "execute_result"
    }
   ],
   "source": [
    "weights"
   ]
  }
 ],
 "metadata": {
  "kernelspec": {
   "display_name": "cplex_env",
   "language": "python",
   "name": "python3"
  },
  "language_info": {
   "codemirror_mode": {
    "name": "ipython",
    "version": 3
   },
   "file_extension": ".py",
   "mimetype": "text/x-python",
   "name": "python",
   "nbconvert_exporter": "python",
   "pygments_lexer": "ipython3",
   "version": "3.6.13"
  }
 },
 "nbformat": 4,
 "nbformat_minor": 2
}

{
 "cells": [
  {
   "cell_type": "code",
   "execution_count": 2,
   "metadata": {},
   "outputs": [],
   "source": [
    "import numpy as np\n",
    "import pandas as pd\n",
    "from statsmodels.stats.proportion import proportions_ztest"
   ]
  },
  {
   "cell_type": "code",
   "execution_count": 3,
   "metadata": {},
   "outputs": [],
   "source": [
    "taus = [0.0005, 0.001, 0.002, 0.005, 0.01, 0.02, 0.05, 0.1, 0.15, 0.2]"
   ]
  },
  {
   "cell_type": "code",
   "execution_count": 5,
   "metadata": {},
   "outputs": [],
   "source": [
    "def get_stats(taus, batch_str):\n",
    "    stat_dfs = []\n",
    "    for tau in taus:\n",
    "        tau_str = str(tau).replace(\".\", \"_\")\n",
    "        input_path = r\"multivariate_scores/\" + f'multivariate_dists_scores_11_stocks__{tau_str}.csv'\n",
    "        df = pd.read_csv(input_path, index_col = 0)\n",
    "        stats = pd.DataFrame()\n",
    "        means = []\n",
    "        stds = []\n",
    "        percentiles_5 = []\n",
    "        percentiles_95 = []\n",
    "        for col in df.columns:\n",
    "            means.append(df[col].mean())\n",
    "            stds.append(df[col].std())\n",
    "            percentiles_5.append(np.percentile(df[col], 5))\n",
    "            percentiles_95.append(np.percentile(df[col], 95))\n",
    "        stats[f\"Models\"] = df.columns.to_list()\n",
    "        stats[\"MEAN\"] = means\n",
    "        stats[f\"STD\"] = stds\n",
    "        stats[f\"5th PERCENTIL\"] = percentiles_5\n",
    "        stats[f\"95th PERCENTIL\"] = percentiles_95\n",
    "        stats.sort_values(by=\"MEAN\", inplace=True)\n",
    "        stat_dfs.append(stats)\n",
    "    return stat_dfs"
   ]
  },
  {
   "cell_type": "code",
   "execution_count": 8,
   "metadata": {},
   "outputs": [
    {
     "data": {
      "text/html": [
       "<div>\n",
       "<style scoped>\n",
       "    .dataframe tbody tr th:only-of-type {\n",
       "        vertical-align: middle;\n",
       "    }\n",
       "\n",
       "    .dataframe tbody tr th {\n",
       "        vertical-align: top;\n",
       "    }\n",
       "\n",
       "    .dataframe thead th {\n",
       "        text-align: right;\n",
       "    }\n",
       "</style>\n",
       "<table border=\"1\" class=\"dataframe\">\n",
       "  <thead>\n",
       "    <tr style=\"text-align: right;\">\n",
       "      <th></th>\n",
       "      <th>Models</th>\n",
       "      <th>MEAN</th>\n",
       "      <th>STD</th>\n",
       "      <th>5th PERCENTIL</th>\n",
       "      <th>95th PERCENTIL</th>\n",
       "    </tr>\n",
       "  </thead>\n",
       "  <tbody>\n",
       "    <tr>\n",
       "      <th>2</th>\n",
       "      <td>t_dist+val</td>\n",
       "      <td>-0.005383</td>\n",
       "      <td>0.002877</td>\n",
       "      <td>-0.009935</td>\n",
       "      <td>-0.000714</td>\n",
       "    </tr>\n",
       "    <tr>\n",
       "      <th>0</th>\n",
       "      <td>gauss_dist+val</td>\n",
       "      <td>-0.001657</td>\n",
       "      <td>0.001339</td>\n",
       "      <td>-0.003741</td>\n",
       "      <td>-0.000060</td>\n",
       "    </tr>\n",
       "    <tr>\n",
       "      <th>1</th>\n",
       "      <td>gauss_dist+score</td>\n",
       "      <td>0.000007</td>\n",
       "      <td>0.000001</td>\n",
       "      <td>0.000004</td>\n",
       "      <td>0.000009</td>\n",
       "    </tr>\n",
       "    <tr>\n",
       "      <th>3</th>\n",
       "      <td>t_dist+scor</td>\n",
       "      <td>0.000009</td>\n",
       "      <td>0.000002</td>\n",
       "      <td>0.000006</td>\n",
       "      <td>0.000011</td>\n",
       "    </tr>\n",
       "  </tbody>\n",
       "</table>\n",
       "</div>"
      ],
      "text/plain": [
       "             Models      MEAN       STD  5th PERCENTIL  95th PERCENTIL\n",
       "2        t_dist+val -0.005383  0.002877      -0.009935       -0.000714\n",
       "0    gauss_dist+val -0.001657  0.001339      -0.003741       -0.000060\n",
       "1  gauss_dist+score  0.000007  0.000001       0.000004        0.000009\n",
       "3       t_dist+scor  0.000009  0.000002       0.000006        0.000011"
      ]
     },
     "execution_count": 8,
     "metadata": {},
     "output_type": "execute_result"
    }
   ],
   "source": [
    "stats_1 = get_stats(taus, \"\")\n",
    "stats_1[0]"
   ]
  },
  {
   "cell_type": "code",
   "execution_count": 9,
   "metadata": {},
   "outputs": [],
   "source": [
    "def get_multivariate_scores_dfs(taus, batch_str):\n",
    "    dfs = []\n",
    "    for tau in taus:\n",
    "        tau_str = str(tau).replace(\".\", \"_\")\n",
    "        input_path = r\"multivariate_scores/\" + f'multivariate_dists_scores_11_stocks__{tau_str}.csv'\n",
    "        df = pd.read_csv(input_path, index_col = 0)\n",
    "        dfs.append(df)\n",
    "    return dfs"
   ]
  },
  {
   "cell_type": "code",
   "execution_count": 11,
   "metadata": {},
   "outputs": [],
   "source": [
    "dfs = get_multivariate_scores_dfs(taus, \"\")\n",
    "# dfs[0]"
   ]
  },
  {
   "cell_type": "code",
   "execution_count": 13,
   "metadata": {},
   "outputs": [
    {
     "data": {
      "text/html": [
       "<div>\n",
       "<style scoped>\n",
       "    .dataframe tbody tr th:only-of-type {\n",
       "        vertical-align: middle;\n",
       "    }\n",
       "\n",
       "    .dataframe tbody tr th {\n",
       "        vertical-align: top;\n",
       "    }\n",
       "\n",
       "    .dataframe thead th {\n",
       "        text-align: right;\n",
       "    }\n",
       "</style>\n",
       "<table border=\"1\" class=\"dataframe\">\n",
       "  <thead>\n",
       "    <tr style=\"text-align: right;\">\n",
       "      <th></th>\n",
       "      <th>Column</th>\n",
       "      <th>Observed Proportion</th>\n",
       "      <th>P-Value</th>\n",
       "      <th>Reject H0</th>\n",
       "    </tr>\n",
       "  </thead>\n",
       "  <tbody>\n",
       "    <tr>\n",
       "      <th>0</th>\n",
       "      <td>gauss_dist+val</td>\n",
       "      <td>0.984127</td>\n",
       "      <td>3.134390e-01</td>\n",
       "      <td>False</td>\n",
       "    </tr>\n",
       "    <tr>\n",
       "      <th>1</th>\n",
       "      <td>t_dist+val</td>\n",
       "      <td>0.333333</td>\n",
       "      <td>3.074833e-29</td>\n",
       "      <td>True</td>\n",
       "    </tr>\n",
       "  </tbody>\n",
       "</table>\n",
       "</div>"
      ],
      "text/plain": [
       "           Column  Observed Proportion       P-Value  Reject H0\n",
       "0  gauss_dist+val             0.984127  3.134390e-01      False\n",
       "1      t_dist+val             0.333333  3.074833e-29       True"
      ]
     },
     "execution_count": 13,
     "metadata": {},
     "output_type": "execute_result"
    }
   ],
   "source": [
    "\n",
    "\n",
    "tau_idx = 1\n",
    "data = dfs[tau_idx]\n",
    "a, b = -0.005, 0\n",
    "p_value_threshold = 0.05\n",
    "val_columns = [col for col in data.columns if \"val\" in col]\n",
    "\n",
    "results = []\n",
    "\n",
    "for col in val_columns:\n",
    "    in_range_count = ((data[col] >= a) & (data[col] <= b)).sum()\n",
    "    total_count = len(data[col])\n",
    "    observed_proportion = in_range_count / total_count\n",
    "\n",
    "    expected_proportion = 1.0\n",
    "\n",
    "    stat, p_value = proportions_ztest(in_range_count, total_count, value=expected_proportion)\n",
    "\n",
    "    results.append({\n",
    "        \"Column\": col,\n",
    "        \"Observed Proportion\": observed_proportion,\n",
    "        \"P-Value\": p_value,\n",
    "        \"Reject H0\": p_value < p_value_threshold\n",
    "    })\n",
    "\n",
    "results_df = pd.DataFrame(results)\n",
    "results_df"
   ]
  }
 ],
 "metadata": {
  "kernelspec": {
   "display_name": "base",
   "language": "python",
   "name": "python3"
  },
  "language_info": {
   "codemirror_mode": {
    "name": "ipython",
    "version": 3
   },
   "file_extension": ".py",
   "mimetype": "text/x-python",
   "name": "python",
   "nbconvert_exporter": "python",
   "pygments_lexer": "ipython3",
   "version": "3.12.4"
  }
 },
 "nbformat": 4,
 "nbformat_minor": 2
}
